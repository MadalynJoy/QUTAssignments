{
 "cells": [
  {
   "cell_type": "code",
   "execution_count": 1,
   "metadata": {},
   "outputs": [],
   "source": [
    "import pandas as pd\n",
    "import numpy as np\n",
    "\n",
    "from sklearn.model_selection import train_test_split, GridSearchCV\n",
    "from sklearn.metrics import classification_report, accuracy_score, roc_auc_score, roc_curve, plot_confusion_matrix\n",
    "from sklearn.preprocessing import StandardScaler\n",
    "from sklearn.neural_network import MLPClassifier\n",
    "from sklearn.feature_selection import SelectFromModel\n",
    "from sklearn.linear_model import LogisticRegression\n",
    "\n",
    "import matplotlib.pyplot as plt\n",
    "import seaborn as sns\n",
    "\n",
    "from dm_tools import analyse_feature_importance\n",
    "\n",
    "import pickle"
   ]
  },
  {
   "cell_type": "code",
   "execution_count": 2,
   "metadata": {},
   "outputs": [],
   "source": [
    "patients = pd.read_excel('dataset.xlsx')"
   ]
  },
  {
   "cell_type": "code",
   "execution_count": 3,
   "metadata": {},
   "outputs": [],
   "source": [
    "target = ['SARS-Cov-2 exam result']\n",
    "features =  ['Patient age quantile', 'Proteina C reativa mg/dL', 'Neutrophils', 'Mean platelet volume ', 'Monocytes',\n",
    "             'Red blood cell distribution width (RDW)', 'Red blood Cells', 'Platelets', 'Eosinophils', 'Basophils',\n",
    "             'Leukocytes', 'Mean corpuscular hemoglobin (MCH)', 'Mean corpuscular volume (MCV)',\n",
    "             'Mean corpuscular hemoglobin concentration\\xa0(MCHC)', 'Lymphocytes', 'Hemoglobin', 'Hematocrit',\n",
    "             'Influenza B, rapid test', 'Influenza A, rapid test']\n",
    "all_covariates = target + features\n",
    "\n",
    "# Limit the dataframe to only the target and features we are interested in\n",
    "patients = patients[all_covariates]\n",
    "\n",
    "# Drop patients that haven't had a FBC\n",
    "patients = patients.dropna(subset=['Leukocytes'])\n",
    "\n",
    "# Onehot the categoricals\n",
    "patients['SARS-Cov-2 exam result'] = patients['SARS-Cov-2 exam result'].map({'negative':0, 'positive':1})\n",
    "patients['Influenza B, rapid test'] = patients['Influenza B, rapid test'].map({'negative':0, 'positive':1})\n",
    "patients['Influenza A, rapid test'] = patients['Influenza A, rapid test'].map({'negative':0, 'positive':1})\n",
    "\n",
    "# Impute residual missing data\n",
    "patients['Proteina C reativa mg/dL'].fillna(np.mean(patients['Proteina C reativa mg/dL']), inplace=True)\n",
    "patients['Monocytes'].fillna(np.mean(patients['Monocytes']), inplace=True)\n",
    "patients['Mean platelet volume '].fillna(np.mean(patients['Mean platelet volume ']), inplace=True)\n",
    "patients['Neutrophils'].fillna(np.mean(patients['Neutrophils']), inplace=True)\n",
    "\n",
    "patients['Influenza B, rapid test'].fillna(0, inplace=True)\n",
    "patients['Influenza A, rapid test'].fillna(0, inplace=True)\n",
    "\n",
    "y = patients['SARS-Cov-2 exam result']\n",
    "X = patients.drop(['SARS-Cov-2 exam result'], axis=1)\n",
    "\n",
    "scaler = StandardScaler()\n",
    "X_scaled = scaler.fit_transform(X)"
   ]
  },
  {
   "cell_type": "code",
   "execution_count": 4,
   "metadata": {},
   "outputs": [],
   "source": [
    "rs=42\n",
    "\n",
    "X_train, X_test, y_train, y_test = train_test_split(X_scaled, y, test_size=0.3, stratify=y, random_state=rs)"
   ]
  },
  {
   "cell_type": "markdown",
   "metadata": {},
   "source": [
    "### Regression Model - Default"
   ]
  },
  {
   "cell_type": "code",
   "execution_count": 5,
   "metadata": {},
   "outputs": [
    {
     "name": "stdout",
     "output_type": "stream",
     "text": [
      "Before scaling\n",
      "-------------\n",
      "Variable #0: min -1.9552032701632158, max 1.3746977131790805, mean 0.00 and std dev 0.97\n",
      "Variable #1: min -0.5880682765973898, max 8.758105835102347, mean -0.01 and std dev 0.97\n",
      "Variable #2: min -3.1118960195323258, max 2.747114031836903, mean 0.02 and std dev 0.99\n",
      "Variable #3: min -2.0138258156348536, max 2.7100744597001416, mean -0.02 and std dev 0.96\n",
      "Variable #4: min -2.16552067844443, max 4.537167190820846, mean -0.01 and std dev 1.00\n",
      "After scaling\n",
      "-------------\n",
      "Variable #0: min -2.0187491392926256, max 1.411151957819038, mean -0.00 and std dev 1.00\n",
      "Variable #1: min -0.589477386855145, max 9.009862503946579, mean 0.00 and std dev 1.00\n",
      "Variable #2: min -3.1649310224828144, max 2.761239564394047, mean -0.00 and std dev 1.00\n",
      "Variable #3: min -2.083985159002029, max 2.8590016364088546, mean -0.00 and std dev 1.00\n",
      "Variable #4: min -2.1536712263709803, max 4.549471469936996, mean 0.00 and std dev 1.00\n"
     ]
    }
   ],
   "source": [
    "from sklearn.preprocessing import StandardScaler\n",
    "\n",
    "# initialise a standard scaler object\n",
    "scaler = StandardScaler()\n",
    "\n",
    "# visualise min, max, mean and standard dev of data before scaling\n",
    "print(\"Before scaling\\n-------------\")\n",
    "for i in range(5):\n",
    "    col = X_train[:,i]\n",
    "    print(\"Variable #{}: min {}, max {}, mean {:.2f} and std dev {:.2f}\".\n",
    "          format(i, min(col), max(col), np.mean(col), np.std(col)))\n",
    "\n",
    "# learn the mean and std.dev of variables from training data\n",
    "# then use the learned values to transform training data\n",
    "X_train = scaler.fit_transform(X_train, y_train)\n",
    "\n",
    "print(\"After scaling\\n-------------\")\n",
    "for i in range(5):\n",
    "    col = X_train[:,i]\n",
    "    print(\"Variable #{}: min {}, max {}, mean {:.2f} and std dev {:.2f}\".\n",
    "          format(i, min(col), max(col), np.mean(col), np.std(col)))\n",
    "\n",
    "# use the statistic that you learned from training to transform test data\n",
    "X_test = scaler.transform(X_test)"
   ]
  },
  {
   "cell_type": "code",
   "execution_count": 6,
   "metadata": {},
   "outputs": [
    {
     "data": {
      "text/plain": [
       "LogisticRegression(C=1.0, class_weight=None, dual=False, fit_intercept=True,\n",
       "                   intercept_scaling=1, l1_ratio=None, max_iter=100,\n",
       "                   multi_class='auto', n_jobs=None, penalty='l2',\n",
       "                   random_state=42, solver='lbfgs', tol=0.0001, verbose=0,\n",
       "                   warm_start=False)"
      ]
     },
     "execution_count": 6,
     "metadata": {},
     "output_type": "execute_result"
    }
   ],
   "source": [
    "from sklearn import set_config\n",
    "\n",
    "set_config(print_changed_only = False)\n",
    "\n",
    "#initiate a model object (with random state to ensure consistent result) and fit it to the training dataset.\n",
    "model = LogisticRegression(random_state=rs)\n",
    "\n",
    "# fit it to training data\n",
    "model.fit(X_train, y_train)"
   ]
  },
  {
   "cell_type": "code",
   "execution_count": 7,
   "metadata": {},
   "outputs": [
    {
     "name": "stdout",
     "output_type": "stream",
     "text": [
      "Train accuracy: 0.8954869358669834\n",
      "Test accuracy: 0.8784530386740331\n",
      "              precision    recall  f1-score   support\n",
      "\n",
      "           0       0.92      0.94      0.93       156\n",
      "           1       0.57      0.48      0.52        25\n",
      "\n",
      "    accuracy                           0.88       181\n",
      "   macro avg       0.75      0.71      0.73       181\n",
      "weighted avg       0.87      0.88      0.87       181\n",
      "\n"
     ]
    }
   ],
   "source": [
    "#initiate a model object (with random state to ensure consistent result) and fit it to the training dataset.\n",
    "model = LogisticRegression(random_state=rs)\n",
    "\n",
    "# fit it to training data\n",
    "model.fit(X_train, y_train)\n",
    "\n",
    "# training and test accuracy\n",
    "print(\"Train accuracy:\", model.score(X_train, y_train))\n",
    "print(\"Test accuracy:\", model.score(X_test, y_test))\n",
    "\n",
    "# classification report on test data\n",
    "y_pred = model.predict(X_test)\n",
    "print(classification_report(y_test, y_pred))"
   ]
  },
  {
   "cell_type": "markdown",
   "metadata": {},
   "source": [
    "While the model has a high accuracy score on training data, the training accuracy is slightly higher than the test accuracy which indicates slight overfitting. We will tune this logistic regression model later using GridSearchCV to imrprove the accuracy."
   ]
  },
  {
   "cell_type": "markdown",
   "metadata": {},
   "source": [
    "### looking at the coefficients"
   ]
  },
  {
   "cell_type": "code",
   "execution_count": 8,
   "metadata": {},
   "outputs": [
    {
     "name": "stdout",
     "output_type": "stream",
     "text": [
      "[[ 0.31618188  0.28380143 -0.37353104  0.17618039  0.20502125 -0.10675624\n",
      "   0.18710568 -0.58659553 -1.21781813 -0.14706076 -1.78419268 -0.14269664\n",
      "  -0.03340144 -0.28872933 -0.30504017  0.25066558  0.4379507  -0.6344502\n",
      "  -0.42278115]]\n"
     ]
    }
   ],
   "source": [
    "print(model.coef_)"
   ]
  },
  {
   "cell_type": "code",
   "execution_count": 31,
   "metadata": {},
   "outputs": [
    {
     "name": "stdout",
     "output_type": "stream",
     "text": [
      "Leukocytes : -1.7841926840206466\n",
      "Eosinophils : -1.2178181328761097\n",
      "Influenza B, rapid test : -0.6344501968278315\n",
      "Platelets : -0.5865955337728928\n",
      "Hematocrit : 0.43795069532977676\n",
      "\n",
      "Leukocytes : OR  0.1679325809451679\n",
      "Eosinophils : OR  0.2958750231586932\n",
      "Influenza B, rapid test : OR  0.5302269286401556\n",
      "Platelets : OR  0.5562176893375862\n",
      "Hematocrit : OR  1.5495285065440476\n"
     ]
    }
   ],
   "source": [
    "# grab feature importances from the model and feature name from the original X\n",
    "coef = model.coef_[0]\n",
    "feature_names = X.columns\n",
    "\n",
    "# sort them out in descending order\n",
    "indices = np.argsort(np.absolute(coef))\n",
    "indices = np.flip(indices, axis=0)\n",
    "\n",
    "# limit to 5 features\n",
    "indices = indices[:5]\n",
    "\n",
    "for i in indices:\n",
    "    print(feature_names[i], ':', coef[i])\n",
    "print()\n",
    "#calculate odds ratio\n",
    "for i in indices:\n",
    "    print(feature_names[i], ': OR ', np.exp(coef[i]))"
   ]
  },
  {
   "cell_type": "markdown",
   "metadata": {},
   "source": [
    "Top 5 most important variables are Leukocytes, Eosinophils, Influenza B Rapid Test, Platelets, and Hematocrits"
   ]
  },
  {
   "cell_type": "markdown",
   "metadata": {},
   "source": [
    "### Grid search model"
   ]
  },
  {
   "cell_type": "code",
   "execution_count": 10,
   "metadata": {},
   "outputs": [
    {
     "data": {
      "text/plain": [
       "GridSearchCV(cv=10, error_score=nan,\n",
       "             estimator=LogisticRegression(C=1.0, class_weight=None, dual=False,\n",
       "                                          fit_intercept=True,\n",
       "                                          intercept_scaling=1, l1_ratio=None,\n",
       "                                          max_iter=100, multi_class='auto',\n",
       "                                          n_jobs=None, penalty='l2',\n",
       "                                          random_state=42, solver='lbfgs',\n",
       "                                          tol=0.0001, verbose=0,\n",
       "                                          warm_start=False),\n",
       "             n_jobs=-1,\n",
       "             param_grid={'C': [1e-06, 1e-05, 0.0001, 0.001, 0.01, 0.1, 1, 10,\n",
       "                               100, 1000]},\n",
       "             pre_dispatch='2*n_jobs', refit=True, return_train_score=True,\n",
       "             scoring=None, verbose=0)"
      ]
     },
     "execution_count": 10,
     "metadata": {},
     "output_type": "execute_result"
    }
   ],
   "source": [
    "# grid search CV  range from  10^−6  to  10^4\n",
    "params = {'C': [pow(10, x) for x in range(-6, 4)]}\n",
    "\n",
    "# use all cores to tune logistic regression with C parameter\n",
    "cv = GridSearchCV(param_grid=params, estimator=LogisticRegression(random_state=rs),return_train_score=True, cv=10, n_jobs=-1)\n",
    "cv.fit(X_train, y_train)"
   ]
  },
  {
   "cell_type": "code",
   "execution_count": 11,
   "metadata": {
    "scrolled": true
   },
   "outputs": [
    {
     "name": "stdout",
     "output_type": "stream",
     "text": [
      "{'mean_fit_time': array([0.00680065, 0.00750055, 0.00700109, 0.00470011, 0.00459993,\n",
      "       0.00610051, 0.00850048, 0.01680143, 0.02450266, 0.0223006 ]), 'std_fit_time': array([0.00140039, 0.00206116, 0.00141418, 0.00126857, 0.00128091,\n",
      "       0.00113618, 0.00128439, 0.00107712, 0.00215746, 0.00134516]), 'mean_score_time': array([0.00069978, 0.00049996, 0.00029986, 0.00050025, 0.00080049,\n",
      "       0.00029998, 0.00020013, 0.00030012, 0.00040002, 0.00030007]), 'std_score_time': array([0.00064004, 0.00049996, 0.00045804, 0.00050025, 0.0006001 ,\n",
      "       0.00045822, 0.00040026, 0.00045844, 0.00066325, 0.00045837]), 'param_C': masked_array(data=[1e-06, 1e-05, 0.0001, 0.001, 0.01, 0.1, 1, 10, 100,\n",
      "                   1000],\n",
      "             mask=[False, False, False, False, False, False, False, False,\n",
      "                   False, False],\n",
      "       fill_value='?',\n",
      "            dtype=object), 'params': [{'C': 1e-06}, {'C': 1e-05}, {'C': 0.0001}, {'C': 0.001}, {'C': 0.01}, {'C': 0.1}, {'C': 1}, {'C': 10}, {'C': 100}, {'C': 1000}], 'split0_test_score': array([0.86046512, 0.86046512, 0.86046512, 0.86046512, 0.86046512,\n",
      "       0.88372093, 0.90697674, 0.86046512, 0.88372093, 0.88372093]), 'split1_test_score': array([0.88095238, 0.88095238, 0.88095238, 0.88095238, 0.88095238,\n",
      "       0.97619048, 0.92857143, 0.92857143, 0.92857143, 0.9047619 ]), 'split2_test_score': array([0.88095238, 0.88095238, 0.88095238, 0.88095238, 0.88095238,\n",
      "       0.88095238, 0.83333333, 0.85714286, 0.85714286, 0.88095238]), 'split3_test_score': array([0.85714286, 0.85714286, 0.85714286, 0.85714286, 0.85714286,\n",
      "       0.83333333, 0.88095238, 0.9047619 , 0.9047619 , 0.88095238]), 'split4_test_score': array([0.85714286, 0.85714286, 0.85714286, 0.85714286, 0.85714286,\n",
      "       0.88095238, 0.85714286, 0.85714286, 0.85714286, 0.85714286]), 'split5_test_score': array([0.85714286, 0.85714286, 0.85714286, 0.85714286, 0.85714286,\n",
      "       0.88095238, 0.83333333, 0.83333333, 0.83333333, 0.83333333]), 'split6_test_score': array([0.85714286, 0.85714286, 0.85714286, 0.85714286, 0.85714286,\n",
      "       0.9047619 , 0.9047619 , 0.92857143, 0.92857143, 0.92857143]), 'split7_test_score': array([0.85714286, 0.85714286, 0.85714286, 0.85714286, 0.85714286,\n",
      "       0.83333333, 0.80952381, 0.80952381, 0.80952381, 0.80952381]), 'split8_test_score': array([0.85714286, 0.85714286, 0.85714286, 0.85714286, 0.85714286,\n",
      "       0.9047619 , 0.92857143, 0.92857143, 0.92857143, 0.92857143]), 'split9_test_score': array([0.85714286, 0.85714286, 0.85714286, 0.85714286, 0.85714286,\n",
      "       0.85714286, 0.76190476, 0.76190476, 0.83333333, 0.83333333]), 'mean_test_score': array([0.86223699, 0.86223699, 0.86223699, 0.86223699, 0.86223699,\n",
      "       0.88361019, 0.8645072 , 0.86699889, 0.87646733, 0.87408638]), 'std_test_score': array([0.00940916, 0.00940916, 0.00940916, 0.00940916, 0.00940916,\n",
      "       0.03904247, 0.05239397, 0.05340232, 0.04236402, 0.03852579]), 'rank_test_score': array([6, 6, 6, 6, 6, 1, 5, 4, 2, 3]), 'split0_train_score': array([0.86243386, 0.86243386, 0.86243386, 0.86243386, 0.86243386,\n",
      "       0.8968254 , 0.9047619 , 0.90740741, 0.9021164 , 0.8994709 ]), 'split1_train_score': array([0.86015831, 0.86015831, 0.86015831, 0.86015831, 0.86015831,\n",
      "       0.87598945, 0.89182058, 0.88918206, 0.88390501, 0.88654354]), 'split2_train_score': array([0.86015831, 0.86015831, 0.86015831, 0.86015831, 0.86015831,\n",
      "       0.89182058, 0.90237467, 0.89973615, 0.89973615, 0.89973615]), 'split3_train_score': array([0.86279683, 0.86279683, 0.86279683, 0.86279683, 0.86279683,\n",
      "       0.89709763, 0.88918206, 0.89182058, 0.8944591 , 0.89973615]), 'split4_train_score': array([0.86279683, 0.86279683, 0.86279683, 0.86279683, 0.86279683,\n",
      "       0.88654354, 0.89709763, 0.89709763, 0.89973615, 0.89709763]), 'split5_train_score': array([0.86279683, 0.86279683, 0.86279683, 0.86279683, 0.86279683,\n",
      "       0.90501319, 0.91292876, 0.91292876, 0.91292876, 0.91556728]), 'split6_train_score': array([0.86279683, 0.86279683, 0.86279683, 0.86279683, 0.86279683,\n",
      "       0.88918206, 0.89182058, 0.89182058, 0.89182058, 0.89709763]), 'split7_train_score': array([0.86279683, 0.86279683, 0.86279683, 0.86279683, 0.86279683,\n",
      "       0.90501319, 0.90237467, 0.90237467, 0.90501319, 0.90237467]), 'split8_train_score': array([0.86279683, 0.86279683, 0.86279683, 0.86279683, 0.86279683,\n",
      "       0.89182058, 0.8944591 , 0.89709763, 0.8944591 , 0.89709763]), 'split9_train_score': array([0.86279683, 0.86279683, 0.86279683, 0.86279683, 0.86279683,\n",
      "       0.90237467, 0.89973615, 0.91029024, 0.90765172, 0.90765172]), 'mean_train_score': array([0.86223283, 0.86223283, 0.86223283, 0.86223283, 0.86223283,\n",
      "       0.89416803, 0.89865561, 0.89997557, 0.89918262, 0.90023733]), 'std_train_score': array([0.0010428 , 0.0010428 , 0.0010428 , 0.0010428 , 0.0010428 ,\n",
      "       0.00861802, 0.00687795, 0.00775432, 0.00797575, 0.00716053])}\n"
     ]
    }
   ],
   "source": [
    "result_set = cv.cv_results_\n",
    "print(result_set)"
   ]
  },
  {
   "cell_type": "markdown",
   "metadata": {},
   "source": [
    "C is the only hyperparameter that is fine-tuned in Regression model"
   ]
  },
  {
   "cell_type": "code",
   "execution_count": 12,
   "metadata": {},
   "outputs": [
    {
     "name": "stdout",
     "output_type": "stream",
     "text": [
      "Total number of models:  10\n"
     ]
    },
    {
     "data": {
      "image/png": "[encoded data removed]",
      "text/plain": [
       "<Figure size 432x288 with 1 Axes>"
      ]
     },
     "metadata": {
      "needs_background": "light"
     },
     "output_type": "display_data"
    }
   ],
   "source": [
    "# train and test score of all splits\n",
    "train_result = result_set['mean_train_score']\n",
    "test_result = result_set['mean_test_score']\n",
    "print(\"Total number of models: \", len(test_result))\n",
    "# plot Hyperparameter C values vs training and test accuracy score\n",
    "plt.plot(range(0, len(train_result)), train_result, 'b', range(0,len(test_result)), test_result, 'r')\n",
    "plt.xlabel('Hyperparameter C\\nBlue = training acc. Red = test acc.')\n",
    "plt.xticks(range(0, len(train_result)),[pow(10, x) for x in range(-6, 4)])\n",
    "plt.ylabel('score')\n",
    "plt.show()"
   ]
  },
  {
   "cell_type": "markdown",
   "metadata": {},
   "source": [
    "This figure ascertains that setting C > 0.1 causes the model to be overfiting (the test error beyond this point degrades regrardless of slight improvement in training accuracy error). The test accuracy does increase at C = 100 but the score is still below that of when C = 0.1\n",
    "\n",
    "C = 0.1 provides the best test score and so it is selected as the optimal value."
   ]
  },
  {
   "cell_type": "code",
   "execution_count": 13,
   "metadata": {},
   "outputs": [
    {
     "name": "stdout",
     "output_type": "stream",
     "text": [
      "{'C': 0.1}\n"
     ]
    }
   ],
   "source": [
    "print(cv.best_params_)"
   ]
  },
  {
   "cell_type": "code",
   "execution_count": 14,
   "metadata": {},
   "outputs": [
    {
     "name": "stdout",
     "output_type": "stream",
     "text": [
      "Train accuracy: 0.8931116389548693\n",
      "Test accuracy: 0.8674033149171271\n"
     ]
    }
   ],
   "source": [
    "cv.fit(X_train, y_train)\n",
    "\n",
    "print(\"Train accuracy:\", cv.score(X_train, y_train))\n",
    "print(\"Test accuracy:\", cv.score(X_test, y_test))"
   ]
  },
  {
   "cell_type": "markdown",
   "metadata": {},
   "source": [
    "The default settings actually had a slightly better test accuracy than the model tuned with GridSearchCV."
   ]
  },
  {
   "attachments": {
    "image.png": {
     "image/png": "[encoded data removed]"
    }
   },
   "cell_type": "markdown",
   "metadata": {},
   "source": [
    "Logistic regression has been chosen as the regression method as it is a classification issue. This is because we are trying to identify whether or not a patient will have a positive COVID-19 result. The target variable is a categorical variable which only indicates postive or negative COVID-19 tests. Therefore, the regression function used is LogisticRegression from the package sklearn.linear_model.\n",
    "![image.png](attachment:image.png)\n",
    "\n",
    "Standardisation was performed on the variables in the form of scaling the variable ranges using the function StandardScaler from the package sklearn.preprocessing. <brief reason as to why it is used>.\n",
    "\n"
   ]
  },
  {
   "cell_type": "code",
   "execution_count": 15,
   "metadata": {},
   "outputs": [
    {
     "name": "stdout",
     "output_type": "stream",
     "text": [
      "['SARS-Cov-2 exam result']\n",
      "['Patient age quantile', 'Proteina C reativa mg/dL', 'Neutrophils', 'Mean platelet volume ', 'Monocytes', 'Red blood cell distribution width (RDW)', 'Red blood Cells', 'Platelets', 'Eosinophils', 'Basophils', 'Leukocytes', 'Mean corpuscular hemoglobin (MCH)', 'Mean corpuscular volume (MCV)', 'Mean corpuscular hemoglobin concentration\\xa0(MCHC)', 'Lymphocytes', 'Hemoglobin', 'Hematocrit', 'Influenza B, rapid test', 'Influenza A, rapid test']\n"
     ]
    }
   ],
   "source": [
    "print(target)\n",
    "print(features)"
   ]
  },
  {
   "cell_type": "markdown",
   "metadata": {},
   "source": [
    "Top 5 most important variables are Leukocytes, Eosinophils, Influenza B Rapid Test, Platelets, and Hematocrits"
   ]
  },
  {
   "attachments": {
    "image-2.png": {
     "image/png": "[encoded data removed]"
    },
    "image.png": {
     "image/png": "[encoded data removed]"
    }
   },
   "cell_type": "markdown",
   "metadata": {},
   "source": [
    "default:\n",
    "![image.png](attachment:image.png)\n",
    "\n",
    "GridSearchCV:\n",
    "![image-2.png](attachment:image-2.png)"
   ]
  },
  {
   "cell_type": "markdown",
   "metadata": {},
   "source": [
    "The training accuracy is slightly higher than the test accuracy which indicates slight overfitting."
   ]
  },
  {
   "cell_type": "markdown",
   "metadata": {},
   "source": [
    "### Recursive Feature Elimination"
   ]
  },
  {
   "cell_type": "markdown",
   "metadata": {},
   "source": [
    "One way is to reduce the size of input set expecting that it will improve model performance, reduce overfitting and enhance visualiation."
   ]
  },
  {
   "cell_type": "code",
   "execution_count": 16,
   "metadata": {},
   "outputs": [
    {
     "name": "stdout",
     "output_type": "stream",
     "text": [
      "Original feature set 19\n",
      "Number of features after elimination 5\n"
     ]
    }
   ],
   "source": [
    "from sklearn.feature_selection import RFECV\n",
    "\n",
    "rfe = RFECV(estimator = LogisticRegression(random_state=rs), cv=10)\n",
    "rfe.fit(X_train, y_train) # run the RFECV\n",
    "\n",
    "# comparing how many variables before and after\n",
    "print(\"Original feature set\", X_train.shape[1])\n",
    "print(\"Number of features after elimination\", rfe.n_features_)"
   ]
  },
  {
   "cell_type": "code",
   "execution_count": 17,
   "metadata": {},
   "outputs": [
    {
     "name": "stdout",
     "output_type": "stream",
     "text": [
      "RFECV(cv=10,\n",
      "      estimator=LogisticRegression(C=1.0, class_weight=None, dual=False,\n",
      "                                   fit_intercept=True, intercept_scaling=1,\n",
      "                                   l1_ratio=None, max_iter=100,\n",
      "                                   multi_class='auto', n_jobs=None,\n",
      "                                   penalty='l2', random_state=42,\n",
      "                                   solver='lbfgs', tol=0.0001, verbose=0,\n",
      "                                   warm_start=False),\n",
      "      importance_getter='auto', min_features_to_select=1, n_jobs=None,\n",
      "      scoring=None, step=1, verbose=0)\n"
     ]
    }
   ],
   "source": [
    "print(rfe)"
   ]
  },
  {
   "cell_type": "code",
   "execution_count": 18,
   "metadata": {},
   "outputs": [],
   "source": [
    "X_train_sel = rfe.transform(X_train)\n",
    "X_test_sel = rfe.transform(X_test)"
   ]
  },
  {
   "cell_type": "code",
   "execution_count": 19,
   "metadata": {},
   "outputs": [
    {
     "name": "stdout",
     "output_type": "stream",
     "text": [
      "Train accuracy: 0.8836104513064132\n",
      "Test accuracy: 0.850828729281768\n",
      "              precision    recall  f1-score   support\n",
      "\n",
      "           0       0.87      0.97      0.92       156\n",
      "           1       0.38      0.12      0.18        25\n",
      "\n",
      "    accuracy                           0.85       181\n",
      "   macro avg       0.62      0.54      0.55       181\n",
      "weighted avg       0.80      0.85      0.82       181\n",
      "\n",
      "{'C': 0.1}\n"
     ]
    }
   ],
   "source": [
    "# grid search CV\n",
    "params = {'C': [pow(10, x) for x in range(-6, 4)]}\n",
    "\n",
    "rfe_cv = GridSearchCV(param_grid=params, estimator=LogisticRegression(random_state=rs), cv=10, n_jobs=-1)\n",
    "rfe_cv.fit(X_train_sel, y_train)\n",
    "\n",
    "# test the best model\n",
    "print(\"Train accuracy:\", rfe_cv.score(X_train_sel, y_train))\n",
    "print(\"Test accuracy:\", rfe_cv.score(X_test_sel, y_test))\n",
    "\n",
    "y_pred = rfe_cv.predict(X_test_sel)\n",
    "print(classification_report(y_test, y_pred))\n",
    "\n",
    "# print parameters of the best model\n",
    "print(rfe_cv.best_params_)"
   ]
  },
  {
   "cell_type": "code",
   "execution_count": 20,
   "metadata": {},
   "outputs": [
    {
     "data": {
      "text/plain": [
       "LogisticRegression(C=1.0, class_weight=None, dual=False, fit_intercept=True,\n",
       "                   intercept_scaling=1, l1_ratio=None, max_iter=100,\n",
       "                   multi_class='auto', n_jobs=None, penalty='l2',\n",
       "                   random_state=42, solver='lbfgs', tol=0.0001, verbose=0,\n",
       "                   warm_start=False)"
      ]
     },
     "execution_count": 20,
     "metadata": {},
     "output_type": "execute_result"
    }
   ],
   "source": [
    "#initiate a model object (with random state to ensure consistent result) and fit it to the training dataset.\n",
    "rfe_model = LogisticRegression(random_state=rs)\n",
    "\n",
    "# fit it to training data\n",
    "rfe_model.fit(X_train_sel, y_train)"
   ]
  },
  {
   "cell_type": "code",
   "execution_count": 21,
   "metadata": {},
   "outputs": [
    {
     "name": "stdout",
     "output_type": "stream",
     "text": [
      "Neutrophils : -1.8153117229595723\n",
      "Proteina C reativa mg/dL : -1.1112259122055428\n",
      "Patient age quantile : -0.7902037245440815\n",
      "Mean platelet volume  : 0.6994581762441379\n",
      "Monocytes : -0.5994425105026162\n"
     ]
    }
   ],
   "source": [
    "# grab feature importances from the model and feature name from the original X\n",
    "coef = rfe_model.coef_[0]\n",
    "feature_names = X.columns\n",
    "\n",
    "# sort them out in descending order\n",
    "indices = np.argsort(np.absolute(coef))\n",
    "indices = np.flip(indices, axis=0)\n",
    "\n",
    "for i in indices:\n",
    "    print(feature_names[i], ':', coef[i])"
   ]
  },
  {
   "attachments": {
    "image-2.png": {
     "image/png": "[encoded data removed]"
    },
    "image.png": {
     "image/png": "[encoded data removed]"
    }
   },
   "cell_type": "markdown",
   "metadata": {},
   "source": [
    "Recursive Feature Elimination was used to reduce the feature set. It reduced the number of features from 19 to 5. The resultant model did not improve the test accuracy compared to the default model. The features that were retained following dimensionality reduction were Neutrophils, Proteina C Reativa mg/dL, Patient age quantile, Mean platelet volume and monocytes. None of these features were present in the top five features of the default model (which were Leukocytes, Eosinophils, Influenza B Rapid Test, Platelets, and Hematocrits).\n",
    "\n",
    "RFE model:\n",
    "![image.png](attachment:image.png)\n",
    "\n",
    "default:\n",
    "![image-2.png](attachment:image-2.png)\n"
   ]
  },
  {
   "cell_type": "markdown",
   "metadata": {},
   "source": [
    "The training accuracy for the RFE model is slightly higher than the test accuracy which indicates slight overfitting."
   ]
  },
  {
   "cell_type": "markdown",
   "metadata": {},
   "source": [
    "The top 5 features were:\n",
    "- Neutrophils\n",
    "- Proteina C Reativa mg/dL\n",
    "- Patient age quantile \n",
    "- Mean platelet volume\n",
    "- monocytes"
   ]
  },
  {
   "cell_type": "markdown",
   "metadata": {},
   "source": [
    "### ROC curve comparison"
   ]
  },
  {
   "cell_type": "code",
   "execution_count": 22,
   "metadata": {},
   "outputs": [
    {
     "name": "stdout",
     "output_type": "stream",
     "text": [
      "ROC index on test for `model`: 0.8197435897435897\n",
      "ROC index on test for `cv`: 0.8048717948717948\n",
      "ROC index on test for `rfe_cv`: 0.7858974358974359\n"
     ]
    }
   ],
   "source": [
    "y_pred_proba_lr = model.predict_proba(X_test)\n",
    "y_pred_proba_lr_cv = cv.predict_proba(X_test)\n",
    "y_pred_proba_rfe_cv = rfe_cv.predict_proba(X_test_sel)\n",
    "\n",
    "\n",
    "roc_index_lr = roc_auc_score(y_test, y_pred_proba_lr[:, 1])\n",
    "roc_index_lr_cv = roc_auc_score(y_test, y_pred_proba_lr_cv[:, 1])\n",
    "roc_index_rfe_cv = roc_auc_score(y_test, y_pred_proba_rfe_cv[:, 1])\n",
    "\n",
    "print(\"ROC index on test for `model`:\", roc_index_lr)\n",
    "print(\"ROC index on test for `cv`:\", roc_index_lr_cv)\n",
    "print(\"ROC index on test for `rfe_cv`:\", roc_index_rfe_cv)"
   ]
  },
  {
   "cell_type": "code",
   "execution_count": 23,
   "metadata": {},
   "outputs": [],
   "source": [
    "fpr_lr, tpr_lr, thresholds_lr = roc_curve(y_test, y_pred_proba_lr[:,1])\n",
    "fpr_lr_cv, tpr_lr_cv, thresholds_lr_cv = roc_curve(y_test, y_pred_proba_lr_cv[:,1])\n",
    "fpr_rfe_cv, tpr_rfe_cv, thresholds_rfe_cv = roc_curve(y_test, y_pred_proba_rfe_cv[:,1])"
   ]
  },
  {
   "cell_type": "code",
   "execution_count": 24,
   "metadata": {},
   "outputs": [
    {
     "data": {
      "image/png": "[encoded data removed]",
      "text/plain": [
       "<Figure size 432x288 with 1 Axes>"
      ]
     },
     "metadata": {
      "needs_background": "light"
     },
     "output_type": "display_data"
    }
   ],
   "source": [
    "plt.plot(fpr_lr, tpr_lr, label='ROC Curve for `Default` {:.3f}'.format(roc_index_lr), color='red', lw=0.5)\n",
    "plt.plot(fpr_lr_cv, tpr_lr_cv, label='ROC Curve for `CV` {:.3f}'.format(roc_index_lr_cv), color='green', lw=0.5)\n",
    "plt.plot(fpr_rfe_cv, tpr_rfe_cv, label='ROC Curve for `RFE_CV` {:.3f}'.format(roc_index_rfe_cv), color='blue', lw=0.5)\n",
    "\n",
    "plt.plot([0, 1], [0, 1], color='navy', lw=0.5, linestyle='--')\n",
    "plt.xlim([0.0, 1.0])\n",
    "plt.ylim([0.0, 1.0])\n",
    "plt.xlabel('False Positive Rate')\n",
    "plt.ylabel('True Positive Rate')\n",
    "plt.title('ROC for Logistic Regression')\n",
    "plt.legend(loc=\"lower right\")\n",
    "plt.show()"
   ]
  },
  {
   "cell_type": "code",
   "execution_count": 25,
   "metadata": {},
   "outputs": [],
   "source": [
    "from sklearn import metrics\n",
    "matrix = metrics.confusion_matrix(y_test, y_pred)"
   ]
  },
  {
   "cell_type": "code",
   "execution_count": 26,
   "metadata": {},
   "outputs": [
    {
     "data": {
      "image/png": "[encoded data removed]",
      "text/plain": [
       "<Figure size 576x576 with 2 Axes>"
      ]
     },
     "metadata": {
      "needs_background": "light"
     },
     "output_type": "display_data"
    }
   ],
   "source": [
    "# counts\n",
    "# Build the plot\n",
    "plt.figure(figsize=(8,8))\n",
    "sns.set(font_scale=1)\n",
    "sns.heatmap(matrix, annot=True, annot_kws={'size':10},\n",
    "            cmap=plt.cm.Greens, linewidths=0.5)\n",
    "\n",
    "# Add labels to the plot\n",
    "class_names = ['negative', 'positive']\n",
    "tick_marks = np.arange(len(class_names))\n",
    "tick_marks2 = tick_marks + 0.5\n",
    "plt.xticks(tick_marks, class_names, rotation=0)\n",
    "plt.yticks(tick_marks2, class_names, rotation=0)\n",
    "plt.xlabel('Predicted label')\n",
    "plt.ylabel('True label')\n",
    "plt.title('Confusion Matrix for Logistic Regression Default Model')\n",
    "\n",
    "plt.show()"
   ]
  },
  {
   "cell_type": "code",
   "execution_count": 27,
   "metadata": {},
   "outputs": [
    {
     "data": {
      "image/png": "[encoded data removed]",
      "text/plain": [
       "<Figure size 576x576 with 2 Axes>"
      ]
     },
     "metadata": {},
     "output_type": "display_data"
    }
   ],
   "source": [
    "matrix = matrix.astype('float') / matrix.sum(axis=1)[:, np.newaxis]\n",
    "\n",
    "# Build the plot\n",
    "plt.figure(figsize=(8,8))\n",
    "sns.set(font_scale=1)\n",
    "sns.heatmap(matrix, annot=True, annot_kws={'size':10},\n",
    "            cmap=plt.cm.Greens, linewidths=0.5)\n",
    "\n",
    "# Add labels to the plot\n",
    "class_names = ['negative', 'positive']\n",
    "tick_marks = np.arange(len(class_names))\n",
    "tick_marks2 = tick_marks + 0.5\n",
    "plt.xticks(tick_marks, class_names, rotation=0)\n",
    "plt.yticks(tick_marks2, class_names, rotation=0)\n",
    "plt.xlabel('Predicted label')\n",
    "plt.ylabel('True label')\n",
    "plt.title('Confusion Matrix for Logistic Regression Default Model')\n",
    "\n",
    "plt.show()"
   ]
  },
  {
   "cell_type": "markdown",
   "metadata": {},
   "source": [
    "Using ROC curve identifies that the best model for predicting COVID-19 patients is the default logistic model.\n",
    "\n",
    "The test accuracy of this model is 89%, however, when looking at the dataset, only 3 patients that have tested positive for COVID-19 have been accurately predicted. This suggests that this model may not correctly predict patients with COVID-19.\n",
    "\n",
    "It is hard to correctly predict the general characteristics of patients with COVID-19 as this model is heavily skewed to predicting patients with negative test results. The features of greatest importance for the default model are levels of Leukocytes, Eosinophils, Platelets, and Hematocrits levels, and Influenza B Rapid Test results."
   ]
  },
  {
   "cell_type": "code",
   "execution_count": 28,
   "metadata": {},
   "outputs": [],
   "source": [
    "import pickle\n",
    "lr_best = model\n",
    "roc_index_lr_best = roc_index_lr\n",
    "tpr_lr_best = tpr_lr\n",
    "fpr_lr_best = fpr_lr\n",
    "with open('Best_LR.pickle', 'wb') as f:\n",
    "    pickle.dump([lr_best,roc_index_lr_best, fpr_lr_best, tpr_lr_best], f)"
   ]
  }
 ],
 "metadata": {
  "kernelspec": {
   "display_name": "Python 3",
   "language": "python",
   "name": "python3"
  },
  "language_info": {
   "codemirror_mode": {
    "name": "ipython",
    "version": 3
   },
   "file_extension": ".py",
   "mimetype": "text/x-python",
   "name": "python",
   "nbconvert_exporter": "python",
   "pygments_lexer": "ipython3",
   "version": "3.8.5"
  }
 },
 "nbformat": 4,
 "nbformat_minor": 4
}
